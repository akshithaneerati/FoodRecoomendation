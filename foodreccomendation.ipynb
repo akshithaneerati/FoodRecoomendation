{
 "cells": [
  {
   "cell_type": "code",
   "execution_count": 119,
   "metadata": {},
   "outputs": [],
   "source": [
    "import pandas as pd\n",
    "import numpy as np"
   ]
  },
  {
   "cell_type": "code",
   "execution_count": 120,
   "metadata": {},
   "outputs": [],
   "source": [
    "recipe=pd.read_csv('Reciepe.csv')\n",
    "reviews=pd.read_csv('reviews.csv')"
   ]
  },
  {
   "cell_type": "code",
   "execution_count": 121,
   "metadata": {},
   "outputs": [
    {
     "data": {
      "text/plain": [
       "pandas.core.frame.DataFrame"
      ]
     },
     "execution_count": 121,
     "metadata": {},
     "output_type": "execute_result"
    }
   ],
   "source": [
    "type(reviews)"
   ]
  },
  {
   "cell_type": "code",
   "execution_count": 122,
   "metadata": {},
   "outputs": [],
   "source": [
    "md=recipe.merge(reviews,on='Recipe_Id')"
   ]
  },
  {
   "cell_type": "code",
   "execution_count": 123,
   "metadata": {},
   "outputs": [
    {
     "data": {
      "text/plain": [
       "pandas.core.frame.DataFrame"
      ]
     },
     "execution_count": 123,
     "metadata": {},
     "output_type": "execute_result"
    }
   ],
   "source": [
    "type(md)"
   ]
  },
  {
   "cell_type": "code",
   "execution_count": 124,
   "metadata": {},
   "outputs": [
    {
     "data": {
      "text/plain": [
       "pandas.core.frame.DataFrame"
      ]
     },
     "execution_count": 124,
     "metadata": {},
     "output_type": "execute_result"
    }
   ],
   "source": [
    "type(recipe)"
   ]
  },
  {
   "cell_type": "code",
   "execution_count": 125,
   "metadata": {},
   "outputs": [
    {
     "data": {
      "text/html": [
       "<div>\n",
       "<style scoped>\n",
       "    .dataframe tbody tr th:only-of-type {\n",
       "        vertical-align: middle;\n",
       "    }\n",
       "\n",
       "    .dataframe tbody tr th {\n",
       "        vertical-align: top;\n",
       "    }\n",
       "\n",
       "    .dataframe thead th {\n",
       "        text-align: right;\n",
       "    }\n",
       "</style>\n",
       "<table border=\"1\" class=\"dataframe\">\n",
       "  <thead>\n",
       "    <tr style=\"text-align: right;\">\n",
       "      <th></th>\n",
       "      <th>Name</th>\n",
       "      <th>Recipe_Id</th>\n",
       "      <th>Ingredients</th>\n",
       "      <th>Calories</th>\n",
       "      <th>Food type</th>\n",
       "      <th>Veg/nonveg</th>\n",
       "      <th>Rating</th>\n",
       "      <th>Review</th>\n",
       "    </tr>\n",
       "  </thead>\n",
       "  <tbody>\n",
       "    <tr>\n",
       "      <th>0</th>\n",
       "      <td>Raw Banana Fry</td>\n",
       "      <td>1</td>\n",
       "      <td>Banana</td>\n",
       "      <td>400</td>\n",
       "      <td>Snacks</td>\n",
       "      <td>Veg</td>\n",
       "      <td>4.0</td>\n",
       "      <td>It’s good not bad I ate this</td>\n",
       "    </tr>\n",
       "    <tr>\n",
       "      <th>1</th>\n",
       "      <td>Payasam</td>\n",
       "      <td>2</td>\n",
       "      <td>Vermicelli  jaggery   ghee  cocunutmilk</td>\n",
       "      <td>500</td>\n",
       "      <td>Desserts</td>\n",
       "      <td>Veg</td>\n",
       "      <td>5.0</td>\n",
       "      <td>Awesome,delicious</td>\n",
       "    </tr>\n",
       "    <tr>\n",
       "      <th>2</th>\n",
       "      <td>Soy Dal Paratha</td>\n",
       "      <td>3</td>\n",
       "      <td>Flour  soyachunks  ghee  mongdal</td>\n",
       "      <td>460</td>\n",
       "      <td>Starters  MainCourse</td>\n",
       "      <td>Veg</td>\n",
       "      <td>3.0</td>\n",
       "      <td>Average It was much better on that day</td>\n",
       "    </tr>\n",
       "    <tr>\n",
       "      <th>3</th>\n",
       "      <td>Aloo Palak Paratha</td>\n",
       "      <td>4</td>\n",
       "      <td>Flour  ghee  potato  spinach  cheese</td>\n",
       "      <td>350</td>\n",
       "      <td>Starters  MainCourse</td>\n",
       "      <td>Veg</td>\n",
       "      <td>5.0</td>\n",
       "      <td>Delicious</td>\n",
       "    </tr>\n",
       "    <tr>\n",
       "      <th>4</th>\n",
       "      <td>Chettinad Chicken Biryani</td>\n",
       "      <td>5</td>\n",
       "      <td>Chicken  tomatoes  yogurt  tomatoes  onions</td>\n",
       "      <td>250</td>\n",
       "      <td>MainCourse</td>\n",
       "      <td>Nonveg</td>\n",
       "      <td>5.0</td>\n",
       "      <td>Awesome,delicious</td>\n",
       "    </tr>\n",
       "  </tbody>\n",
       "</table>\n",
       "</div>"
      ],
      "text/plain": [
       "                        Name  Recipe_Id  \\\n",
       "0             Raw Banana Fry          1   \n",
       "1                    Payasam          2   \n",
       "2            Soy Dal Paratha          3   \n",
       "3         Aloo Palak Paratha          4   \n",
       "4  Chettinad Chicken Biryani          5   \n",
       "\n",
       "                                   Ingredients  Calories  \\\n",
       "0                                       Banana       400   \n",
       "1      Vermicelli  jaggery   ghee  cocunutmilk       500   \n",
       "2             Flour  soyachunks  ghee  mongdal       460   \n",
       "3         Flour  ghee  potato  spinach  cheese       350   \n",
       "4  Chicken  tomatoes  yogurt  tomatoes  onions       250   \n",
       "\n",
       "                Food type Veg/nonveg  Rating  \\\n",
       "0                 Snacks        Veg      4.0   \n",
       "1               Desserts        Veg      5.0   \n",
       "2   Starters  MainCourse        Veg      3.0   \n",
       "3   Starters  MainCourse        Veg      5.0   \n",
       "4             MainCourse     Nonveg      5.0   \n",
       "\n",
       "                                    Review  \n",
       "0             It’s good not bad I ate this  \n",
       "1                        Awesome,delicious  \n",
       "2   Average It was much better on that day  \n",
       "3                                Delicious  \n",
       "4                        Awesome,delicious  "
      ]
     },
     "execution_count": 125,
     "metadata": {},
     "output_type": "execute_result"
    }
   ],
   "source": [
    "md.head()"
   ]
  },
  {
   "cell_type": "code",
   "execution_count": 126,
   "metadata": {},
   "outputs": [
    {
     "data": {
      "text/html": [
       "<div>\n",
       "<style scoped>\n",
       "    .dataframe tbody tr th:only-of-type {\n",
       "        vertical-align: middle;\n",
       "    }\n",
       "\n",
       "    .dataframe tbody tr th {\n",
       "        vertical-align: top;\n",
       "    }\n",
       "\n",
       "    .dataframe thead th {\n",
       "        text-align: right;\n",
       "    }\n",
       "</style>\n",
       "<table border=\"1\" class=\"dataframe\">\n",
       "  <thead>\n",
       "    <tr style=\"text-align: right;\">\n",
       "      <th></th>\n",
       "      <th>Name</th>\n",
       "      <th>Recipe_Id</th>\n",
       "      <th>Ingredients</th>\n",
       "      <th>Calories</th>\n",
       "      <th>Food type</th>\n",
       "      <th>Veg/nonveg</th>\n",
       "      <th>Rating</th>\n",
       "      <th>Review</th>\n",
       "    </tr>\n",
       "  </thead>\n",
       "  <tbody>\n",
       "    <tr>\n",
       "      <th>0</th>\n",
       "      <td>Raw Banana Fry</td>\n",
       "      <td>1</td>\n",
       "      <td>Banana</td>\n",
       "      <td>400</td>\n",
       "      <td>Snacks</td>\n",
       "      <td>Veg</td>\n",
       "      <td>4.0</td>\n",
       "      <td>It’s good not bad I ate this</td>\n",
       "    </tr>\n",
       "    <tr>\n",
       "      <th>1</th>\n",
       "      <td>Payasam</td>\n",
       "      <td>2</td>\n",
       "      <td>Vermicelli  jaggery   ghee  cocunutmilk</td>\n",
       "      <td>500</td>\n",
       "      <td>Desserts</td>\n",
       "      <td>Veg</td>\n",
       "      <td>5.0</td>\n",
       "      <td>Awesome,delicious</td>\n",
       "    </tr>\n",
       "    <tr>\n",
       "      <th>2</th>\n",
       "      <td>Soy Dal Paratha</td>\n",
       "      <td>3</td>\n",
       "      <td>Flour  soyachunks  ghee  mongdal</td>\n",
       "      <td>460</td>\n",
       "      <td>Starters  MainCourse</td>\n",
       "      <td>Veg</td>\n",
       "      <td>3.0</td>\n",
       "      <td>Average It was much better on that day</td>\n",
       "    </tr>\n",
       "    <tr>\n",
       "      <th>3</th>\n",
       "      <td>Aloo Palak Paratha</td>\n",
       "      <td>4</td>\n",
       "      <td>Flour  ghee  potato  spinach  cheese</td>\n",
       "      <td>350</td>\n",
       "      <td>Starters  MainCourse</td>\n",
       "      <td>Veg</td>\n",
       "      <td>5.0</td>\n",
       "      <td>Delicious</td>\n",
       "    </tr>\n",
       "    <tr>\n",
       "      <th>4</th>\n",
       "      <td>Chettinad Chicken Biryani</td>\n",
       "      <td>5</td>\n",
       "      <td>Chicken  tomatoes  yogurt  tomatoes  onions</td>\n",
       "      <td>250</td>\n",
       "      <td>MainCourse</td>\n",
       "      <td>Nonveg</td>\n",
       "      <td>5.0</td>\n",
       "      <td>Awesome,delicious</td>\n",
       "    </tr>\n",
       "  </tbody>\n",
       "</table>\n",
       "</div>"
      ],
      "text/plain": [
       "                        Name  Recipe_Id  \\\n",
       "0             Raw Banana Fry          1   \n",
       "1                    Payasam          2   \n",
       "2            Soy Dal Paratha          3   \n",
       "3         Aloo Palak Paratha          4   \n",
       "4  Chettinad Chicken Biryani          5   \n",
       "\n",
       "                                   Ingredients  Calories  \\\n",
       "0                                       Banana       400   \n",
       "1      Vermicelli  jaggery   ghee  cocunutmilk       500   \n",
       "2             Flour  soyachunks  ghee  mongdal       460   \n",
       "3         Flour  ghee  potato  spinach  cheese       350   \n",
       "4  Chicken  tomatoes  yogurt  tomatoes  onions       250   \n",
       "\n",
       "                Food type Veg/nonveg  Rating  \\\n",
       "0                 Snacks        Veg      4.0   \n",
       "1               Desserts        Veg      5.0   \n",
       "2   Starters  MainCourse        Veg      3.0   \n",
       "3   Starters  MainCourse        Veg      5.0   \n",
       "4             MainCourse     Nonveg      5.0   \n",
       "\n",
       "                                    Review  \n",
       "0             It’s good not bad I ate this  \n",
       "1                        Awesome,delicious  \n",
       "2   Average It was much better on that day  \n",
       "3                                Delicious  \n",
       "4                        Awesome,delicious  "
      ]
     },
     "execution_count": 126,
     "metadata": {},
     "output_type": "execute_result"
    }
   ],
   "source": [
    "md.head()"
   ]
  },
  {
   "cell_type": "code",
   "execution_count": 127,
   "metadata": {},
   "outputs": [],
   "source": [
    "md['Calories']=(lambda x:str(x))(md['Calories'])"
   ]
  },
  {
   "cell_type": "code",
   "execution_count": 128,
   "metadata": {},
   "outputs": [],
   "source": [
    "md['Rating']=(lambda x:str(x))(md['Rating'])"
   ]
  },
  {
   "cell_type": "code",
   "execution_count": 129,
   "metadata": {},
   "outputs": [],
   "source": [
    "md['tags']=md['Ingredients']+md['Food type']+md['Veg/nonveg']"
   ]
  },
  {
   "cell_type": "code",
   "execution_count": 130,
   "metadata": {},
   "outputs": [],
   "source": [
    "new_df=md[['Name','Recipe_Id','tags']]"
   ]
  },
  {
   "cell_type": "code",
   "execution_count": 131,
   "metadata": {},
   "outputs": [
    {
     "data": {
      "text/html": [
       "<div>\n",
       "<style scoped>\n",
       "    .dataframe tbody tr th:only-of-type {\n",
       "        vertical-align: middle;\n",
       "    }\n",
       "\n",
       "    .dataframe tbody tr th {\n",
       "        vertical-align: top;\n",
       "    }\n",
       "\n",
       "    .dataframe thead th {\n",
       "        text-align: right;\n",
       "    }\n",
       "</style>\n",
       "<table border=\"1\" class=\"dataframe\">\n",
       "  <thead>\n",
       "    <tr style=\"text-align: right;\">\n",
       "      <th></th>\n",
       "      <th>Name</th>\n",
       "      <th>Recipe_Id</th>\n",
       "      <th>tags</th>\n",
       "    </tr>\n",
       "  </thead>\n",
       "  <tbody>\n",
       "    <tr>\n",
       "      <th>0</th>\n",
       "      <td>Raw Banana Fry</td>\n",
       "      <td>1</td>\n",
       "      <td>Banana Snacks  Veg</td>\n",
       "    </tr>\n",
       "    <tr>\n",
       "      <th>1</th>\n",
       "      <td>Payasam</td>\n",
       "      <td>2</td>\n",
       "      <td>Vermicelli  jaggery   ghee  cocunutmilk Desser...</td>\n",
       "    </tr>\n",
       "    <tr>\n",
       "      <th>2</th>\n",
       "      <td>Soy Dal Paratha</td>\n",
       "      <td>3</td>\n",
       "      <td>Flour  soyachunks  ghee  mongdal Starters  Mai...</td>\n",
       "    </tr>\n",
       "    <tr>\n",
       "      <th>3</th>\n",
       "      <td>Aloo Palak Paratha</td>\n",
       "      <td>4</td>\n",
       "      <td>Flour  ghee  potato  spinach  cheese Starters ...</td>\n",
       "    </tr>\n",
       "    <tr>\n",
       "      <th>4</th>\n",
       "      <td>Chettinad Chicken Biryani</td>\n",
       "      <td>5</td>\n",
       "      <td>Chicken  tomatoes  yogurt  tomatoes  onions Ma...</td>\n",
       "    </tr>\n",
       "    <tr>\n",
       "      <th>5</th>\n",
       "      <td>AndhraStyleTomatoChutney</td>\n",
       "      <td>6</td>\n",
       "      <td>Tomatoes  mustard Starters Veg</td>\n",
       "    </tr>\n",
       "    <tr>\n",
       "      <th>6</th>\n",
       "      <td>Soya Chana Dal Bhurji</td>\n",
       "      <td>7</td>\n",
       "      <td>Soya  onions  tomato  lemonjuice MainCourse Veg</td>\n",
       "    </tr>\n",
       "    <tr>\n",
       "      <th>7</th>\n",
       "      <td>Chicken Kothu Paratha</td>\n",
       "      <td>8</td>\n",
       "      <td>Paratha  chickencurry  shreddedchicken Starter...</td>\n",
       "    </tr>\n",
       "    <tr>\n",
       "      <th>8</th>\n",
       "      <td>Masoor Dal Kichidi</td>\n",
       "      <td>9</td>\n",
       "      <td>Masoordal  onion  tomato  rice MainCourse Veg</td>\n",
       "    </tr>\n",
       "    <tr>\n",
       "      <th>9</th>\n",
       "      <td>Banana Kheer</td>\n",
       "      <td>10</td>\n",
       "      <td>Banana  jaggery  nuts Desserts Veg</td>\n",
       "    </tr>\n",
       "    <tr>\n",
       "      <th>10</th>\n",
       "      <td>Banana Appam</td>\n",
       "      <td>11</td>\n",
       "      <td>Banana  riceflour  jaggery  coconut Breakfast ...</td>\n",
       "    </tr>\n",
       "    <tr>\n",
       "      <th>11</th>\n",
       "      <td>Paneer Paratha</td>\n",
       "      <td>12</td>\n",
       "      <td>Paneer  wheatflour  onion  ghee Starters  Main...</td>\n",
       "    </tr>\n",
       "    <tr>\n",
       "      <th>12</th>\n",
       "      <td>Palak Paneer Lifafa</td>\n",
       "      <td>13</td>\n",
       "      <td>Wheatflour  cornflour  paneer  spinach  ghee  ...</td>\n",
       "    </tr>\n",
       "    <tr>\n",
       "      <th>13</th>\n",
       "      <td>Chicken Egg Parantha Roll</td>\n",
       "      <td>14</td>\n",
       "      <td>Wheatflour  chicken  yogurt  lemonjuice  mayon...</td>\n",
       "    </tr>\n",
       "    <tr>\n",
       "      <th>14</th>\n",
       "      <td>Tangy Tamaring Prawn curry</td>\n",
       "      <td>15</td>\n",
       "      <td>Prawns  onion  tomato   MainCourse Nonveg</td>\n",
       "    </tr>\n",
       "    <tr>\n",
       "      <th>15</th>\n",
       "      <td>Andhra Style Guntur Idli</td>\n",
       "      <td>16</td>\n",
       "      <td>Idli  chanadal  uraddal  gunturchillies Breakf...</td>\n",
       "    </tr>\n",
       "    <tr>\n",
       "      <th>16</th>\n",
       "      <td>Hyderabadi Veg Dalcha</td>\n",
       "      <td>17</td>\n",
       "      <td>Chanadal  onion  tomatoes  ghee MainCourse Veg</td>\n",
       "    </tr>\n",
       "    <tr>\n",
       "      <th>17</th>\n",
       "      <td>Phool Makhane Kheer</td>\n",
       "      <td>18</td>\n",
       "      <td>Makhana  milk  ghee  sugar Desserts Veg</td>\n",
       "    </tr>\n",
       "    <tr>\n",
       "      <th>18</th>\n",
       "      <td>Masala Tomato Upma</td>\n",
       "      <td>19</td>\n",
       "      <td>Fuji  onion  tomato  carrot  ghee Breakfast Veg</td>\n",
       "    </tr>\n",
       "    <tr>\n",
       "      <th>19</th>\n",
       "      <td>Hyderabadi Dum Chai</td>\n",
       "      <td>20</td>\n",
       "      <td>Tealeaves  milk Snacks  Breakfast Veg</td>\n",
       "    </tr>\n",
       "    <tr>\n",
       "      <th>20</th>\n",
       "      <td>Butter Chicken Kulcha</td>\n",
       "      <td>21</td>\n",
       "      <td>Kulchas  chicken  tomato  onion Starters Nonveg</td>\n",
       "    </tr>\n",
       "    <tr>\n",
       "      <th>21</th>\n",
       "      <td>Paneer Butter Masala</td>\n",
       "      <td>22</td>\n",
       "      <td>Paneer  butter  onions  tomato Starters  MainC...</td>\n",
       "    </tr>\n",
       "    <tr>\n",
       "      <th>22</th>\n",
       "      <td>Butter Chicken curry</td>\n",
       "      <td>23</td>\n",
       "      <td>Chicken   butter  onion  tomato Starters  Main...</td>\n",
       "    </tr>\n",
       "    <tr>\n",
       "      <th>23</th>\n",
       "      <td>Chana dal pulao</td>\n",
       "      <td>24</td>\n",
       "      <td>Rice  chanadal  onion  tomato Starters Veg</td>\n",
       "    </tr>\n",
       "    <tr>\n",
       "      <th>24</th>\n",
       "      <td>Keema Naan</td>\n",
       "      <td>25</td>\n",
       "      <td>Mutton  maida  onion  chilli Starters Nonveg</td>\n",
       "    </tr>\n",
       "    <tr>\n",
       "      <th>25</th>\n",
       "      <td>Palak Vada</td>\n",
       "      <td>26</td>\n",
       "      <td>Spinach  greenchilli  chanadal  mangopowder Br...</td>\n",
       "    </tr>\n",
       "    <tr>\n",
       "      <th>26</th>\n",
       "      <td>Kadai Paneer</td>\n",
       "      <td>27</td>\n",
       "      <td>Paneer   capsicum  onion  redchilli MainCourse...</td>\n",
       "    </tr>\n",
       "    <tr>\n",
       "      <th>27</th>\n",
       "      <td>Shahi Paneer</td>\n",
       "      <td>28</td>\n",
       "      <td>Paneer  yogurt  nuts  cheese MainCourse Veg</td>\n",
       "    </tr>\n",
       "    <tr>\n",
       "      <th>28</th>\n",
       "      <td>Matar paneer</td>\n",
       "      <td>29</td>\n",
       "      <td>Greenpeas  paneer  cheese  onion MainCourse Veg</td>\n",
       "    </tr>\n",
       "  </tbody>\n",
       "</table>\n",
       "</div>"
      ],
      "text/plain": [
       "                          Name  Recipe_Id  \\\n",
       "0               Raw Banana Fry          1   \n",
       "1                      Payasam          2   \n",
       "2              Soy Dal Paratha          3   \n",
       "3           Aloo Palak Paratha          4   \n",
       "4    Chettinad Chicken Biryani          5   \n",
       "5     AndhraStyleTomatoChutney          6   \n",
       "6        Soya Chana Dal Bhurji          7   \n",
       "7        Chicken Kothu Paratha          8   \n",
       "8           Masoor Dal Kichidi          9   \n",
       "9                 Banana Kheer         10   \n",
       "10                Banana Appam         11   \n",
       "11              Paneer Paratha         12   \n",
       "12         Palak Paneer Lifafa         13   \n",
       "13   Chicken Egg Parantha Roll         14   \n",
       "14  Tangy Tamaring Prawn curry         15   \n",
       "15    Andhra Style Guntur Idli         16   \n",
       "16       Hyderabadi Veg Dalcha         17   \n",
       "17         Phool Makhane Kheer         18   \n",
       "18          Masala Tomato Upma         19   \n",
       "19         Hyderabadi Dum Chai         20   \n",
       "20       Butter Chicken Kulcha         21   \n",
       "21        Paneer Butter Masala         22   \n",
       "22        Butter Chicken curry         23   \n",
       "23             Chana dal pulao         24   \n",
       "24                  Keema Naan         25   \n",
       "25                  Palak Vada         26   \n",
       "26                Kadai Paneer         27   \n",
       "27                Shahi Paneer         28   \n",
       "28                Matar paneer         29   \n",
       "\n",
       "                                                 tags  \n",
       "0                                 Banana Snacks  Veg   \n",
       "1   Vermicelli  jaggery   ghee  cocunutmilk Desser...  \n",
       "2   Flour  soyachunks  ghee  mongdal Starters  Mai...  \n",
       "3   Flour  ghee  potato  spinach  cheese Starters ...  \n",
       "4   Chicken  tomatoes  yogurt  tomatoes  onions Ma...  \n",
       "5                     Tomatoes  mustard Starters Veg   \n",
       "6    Soya  onions  tomato  lemonjuice MainCourse Veg   \n",
       "7   Paratha  chickencurry  shreddedchicken Starter...  \n",
       "8      Masoordal  onion  tomato  rice MainCourse Veg   \n",
       "9                 Banana  jaggery  nuts Desserts Veg   \n",
       "10  Banana  riceflour  jaggery  coconut Breakfast ...  \n",
       "11  Paneer  wheatflour  onion  ghee Starters  Main...  \n",
       "12  Wheatflour  cornflour  paneer  spinach  ghee  ...  \n",
       "13  Wheatflour  chicken  yogurt  lemonjuice  mayon...  \n",
       "14         Prawns  onion  tomato   MainCourse Nonveg   \n",
       "15  Idli  chanadal  uraddal  gunturchillies Breakf...  \n",
       "16    Chanadal  onion  tomatoes  ghee MainCourse Veg   \n",
       "17           Makhana  milk  ghee  sugar Desserts Veg   \n",
       "18   Fuji  onion  tomato  carrot  ghee Breakfast Veg   \n",
       "19             Tealeaves  milk Snacks  Breakfast Veg   \n",
       "20   Kulchas  chicken  tomato  onion Starters Nonveg   \n",
       "21  Paneer  butter  onions  tomato Starters  MainC...  \n",
       "22  Chicken   butter  onion  tomato Starters  Main...  \n",
       "23        Rice  chanadal  onion  tomato Starters Veg   \n",
       "24      Mutton  maida  onion  chilli Starters Nonveg   \n",
       "25  Spinach  greenchilli  chanadal  mangopowder Br...  \n",
       "26  Paneer   capsicum  onion  redchilli MainCourse...  \n",
       "27       Paneer  yogurt  nuts  cheese MainCourse Veg   \n",
       "28   Greenpeas  paneer  cheese  onion MainCourse Veg   "
      ]
     },
     "execution_count": 131,
     "metadata": {},
     "output_type": "execute_result"
    }
   ],
   "source": [
    "new_df"
   ]
  },
  {
   "cell_type": "code",
   "execution_count": 132,
   "metadata": {},
   "outputs": [
    {
     "name": "stdout",
     "output_type": "stream",
     "text": [
      "Vermicelli  jaggery   ghee  cocunutmilk Desserts  Veg \n"
     ]
    }
   ],
   "source": [
    "print(new_df['tags'][1])"
   ]
  },
  {
   "cell_type": "code",
   "execution_count": 133,
   "metadata": {},
   "outputs": [],
   "source": [
    "import nltk"
   ]
  },
  {
   "cell_type": "code",
   "execution_count": 134,
   "metadata": {},
   "outputs": [],
   "source": [
    "from nltk.stem.porter import PorterStemmer\n",
    "ps=PorterStemmer()"
   ]
  },
  {
   "cell_type": "code",
   "execution_count": 135,
   "metadata": {},
   "outputs": [],
   "source": [
    "def stem(text):\n",
    "    y=[]\n",
    "    for i in text.split():\n",
    "        y.append(ps.stem(i))\n",
    "    return \" \".join(y)"
   ]
  },
  {
   "cell_type": "code",
   "execution_count": 136,
   "metadata": {},
   "outputs": [
    {
     "name": "stderr",
     "output_type": "stream",
     "text": [
      "/var/folders/0v/ddjwkpz50kb5wq8lc5c05sdc0000gn/T/ipykernel_802/3514595201.py:1: SettingWithCopyWarning: \n",
      "A value is trying to be set on a copy of a slice from a DataFrame.\n",
      "Try using .loc[row_indexer,col_indexer] = value instead\n",
      "\n",
      "See the caveats in the documentation: https://pandas.pydata.org/pandas-docs/stable/user_guide/indexing.html#returning-a-view-versus-a-copy\n",
      "  new_df['tags']=new_df['tags'].apply(stem)\n"
     ]
    }
   ],
   "source": [
    "new_df['tags']=new_df['tags'].apply(stem)"
   ]
  },
  {
   "cell_type": "code",
   "execution_count": 137,
   "metadata": {},
   "outputs": [],
   "source": [
    "from sklearn.feature_extraction.text import CountVectorizer\n",
    "cv=CountVectorizer(max_features=1000,stop_words='english')"
   ]
  },
  {
   "cell_type": "code",
   "execution_count": 138,
   "metadata": {},
   "outputs": [
    {
     "data": {
      "text/plain": [
       "'masoord onion tomato rice maincours veg'"
      ]
     },
     "execution_count": 138,
     "metadata": {},
     "output_type": "execute_result"
    }
   ],
   "source": [
    "new_df['tags'][8]"
   ]
  },
  {
   "cell_type": "code",
   "execution_count": 139,
   "metadata": {},
   "outputs": [
    {
     "data": {
      "text/plain": [
       "array([[1, 0, 0, ..., 0, 0, 0],\n",
       "       [0, 0, 0, ..., 1, 0, 0],\n",
       "       [0, 0, 0, ..., 0, 0, 0],\n",
       "       ...,\n",
       "       [0, 0, 0, ..., 0, 0, 0],\n",
       "       [0, 0, 0, ..., 0, 0, 1],\n",
       "       [0, 0, 0, ..., 0, 0, 0]])"
      ]
     },
     "execution_count": 139,
     "metadata": {},
     "output_type": "execute_result"
    }
   ],
   "source": [
    "vectors=cv.fit_transform(new_df['tags']).toarray()\n",
    "vectors"
   ]
  },
  {
   "cell_type": "code",
   "execution_count": 140,
   "metadata": {},
   "outputs": [
    {
     "data": {
      "text/plain": [
       "array([1, 0, 0, 0, 0, 0, 0, 0, 0, 0, 0, 0, 0, 0, 0, 0, 0, 0, 0, 0, 0, 0,\n",
       "       0, 0, 0, 0, 0, 0, 0, 0, 0, 0, 0, 0, 0, 0, 0, 0, 0, 0, 0, 0, 0, 0,\n",
       "       0, 0, 1, 0, 0, 0, 0, 0, 0, 0, 0, 0, 1, 0, 0, 0])"
      ]
     },
     "execution_count": 140,
     "metadata": {},
     "output_type": "execute_result"
    }
   ],
   "source": [
    "vectors[0]"
   ]
  },
  {
   "cell_type": "code",
   "execution_count": 141,
   "metadata": {},
   "outputs": [
    {
     "data": {
      "text/plain": [
       "(29, 60)"
      ]
     },
     "execution_count": 141,
     "metadata": {},
     "output_type": "execute_result"
    }
   ],
   "source": [
    "vectors.shape"
   ]
  },
  {
   "cell_type": "code",
   "execution_count": 142,
   "metadata": {},
   "outputs": [
    {
     "data": {
      "text/plain": [
       "array(['banana', 'breakfast', 'butter', 'capsicum', 'carrot', 'chanad',\n",
       "       'chees', 'chicken', 'chickencurri', 'chilli', 'coconut',\n",
       "       'cocunutmilk', 'cornflour', 'dessert', 'egg', 'flour', 'fuji',\n",
       "       'ghee', 'greenchilli', 'greenpea', 'gunturchilli', 'idli',\n",
       "       'jaggeri', 'kulcha', 'lemonjuic', 'maida', 'maincours', 'makhana',\n",
       "       'mangopowd', 'masoord', 'mayonnais', 'milk', 'mongdal', 'mustard',\n",
       "       'mutton', 'nonveg', 'nut', 'onion', 'paneer', 'paratha', 'potato',\n",
       "       'prawn', 'redchilli', 'rice', 'riceflour', 'shreddedchicken',\n",
       "       'snack', 'soya', 'soyachunk', 'spinach', 'starter', 'sugar',\n",
       "       'tealeav', 'tomato', 'tomatoketchup', 'uradd', 'veg', 'vermicelli',\n",
       "       'wheatflour', 'yogurt'], dtype=object)"
      ]
     },
     "execution_count": 142,
     "metadata": {},
     "output_type": "execute_result"
    }
   ],
   "source": [
    "cv.get_feature_names_out()"
   ]
  },
  {
   "cell_type": "code",
   "execution_count": 143,
   "metadata": {},
   "outputs": [],
   "source": [
    "from sklearn.metrics.pairwise import cosine_similarity"
   ]
  },
  {
   "cell_type": "code",
   "execution_count": 144,
   "metadata": {},
   "outputs": [],
   "source": [
    "similarity=cosine_similarity(vectors)"
   ]
  },
  {
   "cell_type": "code",
   "execution_count": 145,
   "metadata": {},
   "outputs": [
    {
     "data": {
      "text/plain": [
       "(29, 29)"
      ]
     },
     "execution_count": 145,
     "metadata": {},
     "output_type": "execute_result"
    }
   ],
   "source": [
    "similarity.shape"
   ]
  },
  {
   "cell_type": "code",
   "execution_count": 146,
   "metadata": {},
   "outputs": [
    {
     "data": {
      "text/plain": [
       "array([1.        , 0.23570226, 0.21821789, 0.20412415, 0.        ,\n",
       "       0.28867513, 0.23570226, 0.        , 0.23570226, 0.51639778,\n",
       "       0.47140452, 0.21821789, 0.20412415, 0.18257419, 0.        ,\n",
       "       0.23570226, 0.23570226, 0.23570226, 0.21821789, 0.51639778,\n",
       "       0.        , 0.21821789, 0.        , 0.23570226, 0.        ,\n",
       "       0.23570226, 0.23570226, 0.23570226, 0.23570226])"
      ]
     },
     "execution_count": 146,
     "metadata": {},
     "output_type": "execute_result"
    }
   ],
   "source": [
    "similarity[0]"
   ]
  },
  {
   "cell_type": "code",
   "execution_count": 147,
   "metadata": {},
   "outputs": [
    {
     "data": {
      "text/plain": [
       "[(6, 0.6666666666666669),\n",
       " (16, 0.6666666666666669),\n",
       " (23, 0.6666666666666669),\n",
       " (21, 0.6172133998483676),\n",
       " (14, 0.5477225575051662)]"
      ]
     },
     "execution_count": 147,
     "metadata": {},
     "output_type": "execute_result"
    }
   ],
   "source": [
    "sorted(list(enumerate(similarity[8])),reverse=True,key=lambda x:x[1])[1:6]"
   ]
  },
  {
   "cell_type": "code",
   "execution_count": 148,
   "metadata": {},
   "outputs": [],
   "source": [
    "def recommend(food):\n",
    "    food_index=new_df[new_df['Name']==food].index[0]\n",
    "    distances=similarity[food_index]\n",
    "    food_list=sorted(list(enumerate(distances)),reverse=True,key=lambda x:x[1])[1:6]\n",
    "\n",
    "    for i in food_list:\n",
    "        print(new_df.iloc[i[0]].Name)\n",
    "        print(new_df.iloc[i[0]].tags)"
   ]
  },
  {
   "cell_type": "code",
   "execution_count": 149,
   "metadata": {},
   "outputs": [
    {
     "name": "stdout",
     "output_type": "stream",
     "text": [
      "Aloo Palak Paratha\n",
      "flour ghee potato spinach chees starter maincours veg\n",
      "Paneer Paratha\n",
      "paneer wheatflour onion ghee starter maincours veg\n",
      "Hyderabadi Veg Dalcha\n",
      "chanad onion tomato ghee maincours veg\n",
      "Paneer Butter Masala\n",
      "paneer butter onion tomato starter maincours veg\n",
      "Palak Paneer Lifafa\n",
      "wheatflour cornflour paneer spinach ghee onion starter veg\n"
     ]
    }
   ],
   "source": [
    "recommend('Soy Dal Paratha')"
   ]
  },
  {
   "cell_type": "code",
   "execution_count": 150,
   "metadata": {},
   "outputs": [
    {
     "data": {
      "text/plain": [
       "'Andhra Style Guntur Idli'"
      ]
     },
     "execution_count": 150,
     "metadata": {},
     "output_type": "execute_result"
    }
   ],
   "source": [
    "new_df.iloc[15].Name"
   ]
  },
  {
   "cell_type": "code",
   "execution_count": 151,
   "metadata": {},
   "outputs": [
    {
     "data": {
      "text/plain": [
       "9"
      ]
     },
     "execution_count": 151,
     "metadata": {},
     "output_type": "execute_result"
    }
   ],
   "source": [
    "new_df[new_df['Name']=='Banana Kheer'].index[0]"
   ]
  }
 ],
 "metadata": {
  "kernelspec": {
   "display_name": "base",
   "language": "python",
   "name": "python3"
  },
  "language_info": {
   "codemirror_mode": {
    "name": "ipython",
    "version": 3
   },
   "file_extension": ".py",
   "mimetype": "text/x-python",
   "name": "python",
   "nbconvert_exporter": "python",
   "pygments_lexer": "ipython3",
   "version": "3.11.3"
  },
  "orig_nbformat": 4
 },
 "nbformat": 4,
 "nbformat_minor": 2
}
